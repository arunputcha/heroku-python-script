{
 "cells": [
  {
   "cell_type": "code",
   "execution_count": 1,
   "metadata": {},
   "outputs": [],
   "source": [
    "from dash.dependencies import Input, Output\n",
    "import dash_core_components as dcc\n",
    "import dash_html_components as html"
   ]
  },
  {
   "cell_type": "code",
   "execution_count": 2,
   "metadata": {},
   "outputs": [],
   "source": [
    "layout = [dcc.Markdown(\"\"\"\n",
    "### Project context and model selection \n",
    "This project is created as an assignment for the Data-x course in UC Berkeley. We splitted the data into train and \n",
    "test set, and experimented with different models before choosing one with the lowest loss. The table\n",
    "below shows the different models that we tried and their corresponding train and test Root Mean Squared Error (RMSE).\n",
    "As seen, the XGBoost model has the lowest train and test RMSE and therefore is used as the chosen model to forecast\n",
    "active layer thickness in the Samoylov region in Russia. \n",
    "\n",
    "|         Model         | Train RMSE | Test RMSE |\n",
    "|-----------------------|------------|-----------|\n",
    "|  Autoregression (p=31)|   10.637   |   13.690  |\n",
    "|   ARIMA (p=2, q=0)    |   11.601   |   13.716  |\n",
    "|         SARIMA        |   15.415   |   14.436  |\n",
    "|     Random Forest     |   5.651    |   8.998   |\n",
    "|        XGBoost        |   2.194    |   7.342   |\n",
    "\"\"\"),\n",
    "          \n",
    "# Image of the XGBoost model performance against the test data\n",
    "html.Img(src='https://drive.google.com/file/d/1ie9cjgldY-XMVVwKfs1_j_AiFe_ozsNe/view?usp=sharing'),\n",
    "\n",
    "[dcc.Markdown(\"\"\"\n",
    "** XGBoost performance against test data (Date on the x-axis, ALT in centimeters on the y-axis) **\n",
    "\"\"\")]]\n"
   ]
  },
  {
   "cell_type": "code",
   "execution_count": null,
   "metadata": {},
   "outputs": [],
   "source": []
  }
 ],
 "metadata": {
  "kernelspec": {
   "display_name": "Python 3",
   "language": "python",
   "name": "python3"
  },
  "language_info": {
   "codemirror_mode": {
    "name": "ipython",
    "version": 3
   },
   "file_extension": ".py",
   "mimetype": "text/x-python",
   "name": "python",
   "nbconvert_exporter": "python",
   "pygments_lexer": "ipython3",
   "version": "3.6.8"
  }
 },
 "nbformat": 4,
 "nbformat_minor": 4
}
